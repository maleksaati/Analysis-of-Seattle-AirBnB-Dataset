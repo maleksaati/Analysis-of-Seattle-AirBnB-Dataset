{
  "nbformat": 4,
  "nbformat_minor": 0,
  "metadata": {
    "colab": {
      "name": "Untitled0.ipynb",
      "provenance": [],
      "authorship_tag": "ABX9TyP9s/XNlU3uZ37o9AbpM14O",
      "include_colab_link": true
    },
    "kernelspec": {
      "name": "python3",
      "display_name": "Python 3"
    },
    "language_info": {
      "name": "python"
    }
  },
  "cells": [
    {
      "cell_type": "markdown",
      "metadata": {
        "id": "view-in-github",
        "colab_type": "text"
      },
      "source": [
        "<a href=\"https://colab.research.google.com/github/maleksaati/Analysis-of-Seattle-AirBnB-Dataset/blob/main/Untitled0.ipynb\" target=\"_parent\"><img src=\"https://colab.research.google.com/assets/colab-badge.svg\" alt=\"Open In Colab\"/></a>"
      ]
    },
    {
      "cell_type": "code",
      "source": [
        "%time"
      ],
      "metadata": {
        "colab": {
          "base_uri": "https://localhost:8080/"
        },
        "id": "X__mRkrao45-",
        "outputId": "5ccbdb89-d69a-4633-bff7-ec4906105bca"
      },
      "execution_count": 2,
      "outputs": [
        {
          "output_type": "stream",
          "name": "stdout",
          "text": [
            "CPU times: user 3 µs, sys: 0 ns, total: 3 µs\n",
            "Wall time: 6.91 µs\n"
          ]
        }
      ]
    },
    {
      "cell_type": "code",
      "source": [
        "print('Table of squares')\n",
        "for i in range(10):\n",
        "  print(f'{i} times {i} = {i*i}')"
      ],
      "metadata": {
        "colab": {
          "base_uri": "https://localhost:8080/"
        },
        "id": "okBzpaoBo7be",
        "outputId": "3d787e3b-41e5-4ec5-cf12-ac3b7e8e95eb"
      },
      "execution_count": 3,
      "outputs": [
        {
          "output_type": "stream",
          "name": "stdout",
          "text": [
            "Table of squares\n",
            "0 times 0 = 0\n",
            "1 times 1 = 1\n",
            "2 times 2 = 4\n",
            "3 times 3 = 9\n",
            "4 times 4 = 16\n",
            "5 times 5 = 25\n",
            "6 times 6 = 36\n",
            "7 times 7 = 49\n",
            "8 times 8 = 64\n",
            "9 times 9 = 81\n"
          ]
        }
      ]
    },
    {
      "cell_type": "code",
      "source": [
        ""
      ],
      "metadata": {
        "id": "D2rbUf3-pJjr"
      },
      "execution_count": null,
      "outputs": []
    }
  ]
}